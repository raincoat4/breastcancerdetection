{
 "cells": [
  {
   "cell_type": "code",
   "execution_count": 1,
   "metadata": {
    "collapsed": true
   },
   "outputs": [],
   "source": [
    "import time\n",
    "import numpy as np\n",
    "import h5py\n",
    "import matplotlib.pyplot as plt\n",
    "import scipy\n",
    "from PIL import Image\n",
    "from scipy import ndimage\n",
    "from nn_functions import *\n",
    "\n",
    "%matplotlib inline\n",
    "plt.rcParams['figure.figsize'] = (5.0, 4.0) # set default size of plots\n",
    "plt.rcParams['image.interpolation'] = 'nearest'\n",
    "plt.rcParams['image.cmap'] = 'gray'\n",
    "\n",
    "%load_ext autoreload\n",
    "%autoreload 2\n",
    "\n",
    "np.random.seed(1)"
   ]
  },
  {
   "cell_type": "code",
   "execution_count": 13,
   "metadata": {},
   "outputs": [
    {
     "name": "stdout",
     "output_type": "stream",
     "text": [
      "Training data input shape:  (9, 350)\n",
      "Training data label shape:  (1, 350)\n",
      "Testing data input shape:  (9, 333)\n",
      "Testing data label shape:  (1, 333)\n"
     ]
    }
   ],
   "source": [
    "filename = \"datasets/breast-cancer-wisconsin.data\"\n",
    "dataset = np.genfromtxt(filename, delimiter=\",\")\n",
    "#splitting given data into a training set and testing set\n",
    "train_set = dataset[:350]\n",
    "test_set = dataset[350:]\n",
    "\n",
    "#splitting both sets into input matrix and label matrix, the set[:, 1:-1] removes the id number from the list of parameters since it is irrelevant\n",
    "train_set_X, train_set_Y = train_set[:, 1:-1], train_set[:, -1]\n",
    "test_set_X, test_set_Y = test_set[:, 1:-1], test_set[:, -1]\n",
    "train_set_X, train_set_Y = train_set_X.T, train_set_Y.reshape(1, train_set_Y.shape[0])\n",
    "test_set_X, test_set_Y = test_set_X.T, test_set_Y.reshape(1, test_set_Y.shape[0])\n",
    "\n",
    "#label column has entries of 2 and 4, so dividing by 2 and subtracting 1 gives binary values 0 and 1\n",
    "train_set_Y, test_set_Y = (train_set_Y/2)-1, (test_set_Y/2)-1\n",
    "\n",
    "print(\"Training data input shape: \", train_set_X.shape)\n",
    "print(\"Training data label shape: \", train_set_Y.shape)\n",
    "print(\"Testing data input shape: \", test_set_X.shape)\n",
    "print(\"Testing data label shape: \", test_set_Y.shape)"
   ]
  },
  {
   "cell_type": "code",
   "execution_count": 14,
   "metadata": {},
   "outputs": [
    {
     "name": "stdout",
     "output_type": "stream",
     "text": [
      "Cost after iteration 0: 0.513706\n",
      "Cost after iteration 100: 0.438457\n",
      "Cost after iteration 200: 0.382969\n",
      "Cost after iteration 300: 0.344121\n",
      "Cost after iteration 400: 0.317423\n",
      "Cost after iteration 500: 0.297628\n",
      "Cost after iteration 600: 0.281199\n",
      "Cost after iteration 700: 0.266403\n",
      "Cost after iteration 800: 0.253672\n",
      "Cost after iteration 900: 0.242557\n",
      "Cost after iteration 1000: 0.232603\n",
      "Cost after iteration 1100: 0.223593\n",
      "Cost after iteration 1200: 0.215245\n",
      "Cost after iteration 1300: 0.207459\n",
      "Cost after iteration 1400: 0.200507\n",
      "Cost after iteration 1500: 0.194192\n",
      "Cost after iteration 1600: 0.188380\n",
      "Cost after iteration 1700: 0.183000\n",
      "Cost after iteration 1800: 0.178017\n",
      "Cost after iteration 1900: 0.173419\n",
      "Cost after iteration 2000: 0.169112\n",
      "Cost after iteration 2100: 0.165053\n",
      "Cost after iteration 2200: 0.161211\n",
      "Cost after iteration 2300: 0.157554\n",
      "Cost after iteration 2400: 0.154072\n",
      "Cost after iteration 2500: 0.150753\n",
      "Cost after iteration 2600: 0.147592\n",
      "Cost after iteration 2700: 0.144569\n",
      "Cost after iteration 2800: 0.141719\n",
      "Cost after iteration 2900: 0.139003\n",
      "Cost after iteration 3000: 0.136388\n",
      "Cost after iteration 3100: 0.133917\n",
      "Cost after iteration 3200: 0.131549\n",
      "Cost after iteration 3300: 0.129276\n",
      "Cost after iteration 3400: 0.127119\n",
      "Cost after iteration 3500: 0.125096\n",
      "Cost after iteration 3600: 0.123149\n",
      "Cost after iteration 3700: 0.121301\n",
      "Cost after iteration 3800: 0.119532\n",
      "Cost after iteration 3900: 0.117897\n",
      "Cost after iteration 4000: 0.116340\n",
      "Cost after iteration 4100: 0.114855\n",
      "Cost after iteration 4200: 0.113434\n",
      "Cost after iteration 4300: 0.112086\n",
      "Cost after iteration 4400: 0.110821\n",
      "Cost after iteration 4500: 0.109664\n",
      "Cost after iteration 4600: 0.108560\n",
      "Cost after iteration 4700: 0.107484\n",
      "Cost after iteration 4800: 0.106471\n",
      "Cost after iteration 4900: 0.105614\n"
     ]
    },
    {
     "data": {
      "image/png": "[encoded data removed]",
      "text/plain": [
       "<Figure size 480x400 with 1 Axes>"
      ]
     },
     "metadata": {},
     "output_type": "display_data"
    }
   ],
   "source": [
    "\n",
    "layers_dims = [9, 7, 5, 1]\n",
    "\n",
    "def my_L_layer_model(X, Y, layers_dims, learning_rate = 0.0075, num_iterations = 3000, print_cost=False):\n",
    "    \"\"\"\n",
    "    Implements a L-layer neural network: [LINEAR->RELU]*(L-1)->LINEAR->SIGMOID.\n",
    "    \n",
    "    Arguments:\n",
    "    X -- data, numpy array of shape (num_px * num_px * 3, number of examples)\n",
    "    Y -- true \"label\" vector (containing 0 if cat, 1 if non-cat), of shape (1, number of examples)\n",
    "    layers_dims -- list containing the input size and each layer size, of length (number of layers + 1).\n",
    "    learning_rate -- learning rate of the gradient descent update rule\n",
    "    num_iterations -- number of iterations of the optimization loop\n",
    "    print_cost -- if True, it prints the cost every 100 steps\n",
    "    \n",
    "    Returns:\n",
    "    parameters -- parameters learnt by the model. They can then be used to predict.\n",
    "    \"\"\"\n",
    "\n",
    "    np.random.seed(1)\n",
    "    costs = []                         # keep track of cost\n",
    "    \n",
    "    parameters = initialize_parameters_deep(layers_dims)\n",
    "\n",
    "    # Loop (gradient descent)\n",
    "    for i in range(0, num_iterations):\n",
    "\n",
    "        # Forward propagation: [LINEAR -> RELU]*(L-1) -> LINEAR -> SIGMOID.\n",
    "        AL, caches = L_model_forward(X, parameters)\n",
    "        # Compute cost.\n",
    "        cost = compute_cost(AL, Y)\n",
    "        # Backward propagation.\n",
    "        grads = L_model_backward(AL, Y, caches)\n",
    "        # Update parameters.\n",
    "        parameters = update_parameters(parameters, grads, learning_rate)\n",
    "\n",
    "                \n",
    "        # Print the cost every 100 training example\n",
    "        if print_cost and i % 100 == 0:\n",
    "            print (\"Cost after iteration %i: %f\" %(i, cost))\n",
    "        if print_cost and i % 100 == 0:\n",
    "            costs.append(cost)\n",
    "            \n",
    "    # plot the cost\n",
    "    plt.figure(figsize = (6,5), dpi = 80)\n",
    "    plt.plot(np.squeeze(costs))\n",
    "    plt.ylabel('cost')\n",
    "    plt.xlabel('iterations (per hundreds)')\n",
    "    plt.title(\"Learning rate =\" + str(learning_rate))\n",
    "    plt.show()\n",
    "    \n",
    "    return parameters\n",
    "\n",
    "parameters_basic = my_L_layer_model(train_set_X, train_set_Y, layers_dims, num_iterations = 5000, print_cost = True)"
   ]
  },
  {
   "cell_type": "code",
   "execution_count": 15,
   "metadata": {},
   "outputs": [
    {
     "name": "stdout",
     "output_type": "stream",
     "text": [
      "Accuracy on training set:\n",
      "Accuracy: 0.9657142857142857\n",
      "Accuracy on test set:\n",
      "Accuracy: 0.987987987987988\n"
     ]
    }
   ],
   "source": [
    "print(\"Accuracy on training set:\")\n",
    "pred_train_basic = predict(train_set_X, train_set_Y, parameters_basic)\n",
    "print(\"Accuracy on test set:\")\n",
    "pred_test_basic = predict(test_set_X, test_set_Y, parameters_basic)"
   ]
  },
  {
   "attachments": {},
   "cell_type": "markdown",
   "metadata": {},
   "source": [
    "The accuracy is quite good, but the cost after many iterations is still quite large, so I'd like to make some improvements to reduce that. I'll try implementing gradient descent with momentum to see if that improves the cost. \n",
    "I define 2 new functions in nn_functions.py: \n",
    "- initialize_parameters_momentum(), a slightly modified version of initialize_parameters(), where sDw is initialized as a matrix of zeros instead of random values.\n",
    "- update_parameters_momentum(), a modified version of update_parameters(), where the average of the gradients is recorded, and gradient descent with momentum is implemented.\n"
   ]
  },
  {
   "cell_type": "code",
   "execution_count": 16,
   "metadata": {},
   "outputs": [
    {
     "name": "stdout",
     "output_type": "stream",
     "text": [
      "Cost after iteration 0: 0.513706\n",
      "Cost after iteration 100: 0.443912\n",
      "Cost after iteration 200: 0.386891\n",
      "Cost after iteration 300: 0.346469\n",
      "Cost after iteration 400: 0.318879\n",
      "Cost after iteration 500: 0.298733\n",
      "Cost after iteration 600: 0.282263\n",
      "Cost after iteration 700: 0.267329\n",
      "Cost after iteration 800: 0.254431\n",
      "Cost after iteration 900: 0.243240\n",
      "Cost after iteration 1000: 0.233226\n",
      "Cost after iteration 1100: 0.224172\n",
      "Cost after iteration 1200: 0.215844\n",
      "Cost after iteration 1300: 0.208018\n",
      "Cost after iteration 1400: 0.200999\n",
      "Cost after iteration 1500: 0.194652\n",
      "Cost after iteration 1600: 0.188823\n",
      "Cost after iteration 1700: 0.183428\n",
      "Cost after iteration 1800: 0.178431\n",
      "Cost after iteration 1900: 0.173816\n",
      "Cost after iteration 2000: 0.169503\n",
      "Cost after iteration 2100: 0.165441\n",
      "Cost after iteration 2200: 0.161600\n",
      "Cost after iteration 2300: 0.157945\n",
      "Cost after iteration 2400: 0.154470\n",
      "Cost after iteration 2500: 0.151148\n",
      "Cost after iteration 2600: 0.147985\n",
      "Cost after iteration 2700: 0.144960\n",
      "Cost after iteration 2800: 0.142098\n",
      "Cost after iteration 2900: 0.139388\n",
      "Cost after iteration 3000: 0.136769\n",
      "Cost after iteration 3100: 0.134283\n",
      "Cost after iteration 3200: 0.131913\n",
      "Cost after iteration 3300: 0.129639\n",
      "Cost after iteration 3400: 0.127460\n",
      "Cost after iteration 3500: 0.125432\n",
      "Cost after iteration 3600: 0.123486\n",
      "Cost after iteration 3700: 0.121628\n",
      "Cost after iteration 3800: 0.119859\n",
      "Cost after iteration 3900: 0.118196\n",
      "Cost after iteration 4000: 0.116631\n",
      "Cost after iteration 4100: 0.115143\n",
      "Cost after iteration 4200: 0.113716\n",
      "Cost after iteration 4300: 0.112354\n",
      "Cost after iteration 4400: 0.111071\n",
      "Cost after iteration 4500: 0.109885\n",
      "Cost after iteration 4600: 0.108786\n",
      "Cost after iteration 4700: 0.107708\n",
      "Cost after iteration 4800: 0.106689\n",
      "Cost after iteration 4900: 0.105786\n"
     ]
    },
    {
     "data": {
      "image/png": "[encoded data removed]",
      "text/plain": [
       "<Figure size 480x400 with 1 Axes>"
      ]
     },
     "metadata": {},
     "output_type": "display_data"
    }
   ],
   "source": [
    "layers_dims = [9, 7, 5, 1]\n",
    "\n",
    "def my_L_layer_model_momentum(X, Y, layers_dims, beta, learning_rate = 0.0075, num_iterations = 3000, print_cost=False):\n",
    "    \"\"\"\n",
    "    Implements a L-layer neural network: [LINEAR->RELU]*(L-1)->LINEAR->SIGMOID.\n",
    "    \n",
    "    Arguments:\n",
    "    X -- data, numpy array of shape (num_px * num_px * 3, number of examples)\n",
    "    Y -- true \"label\" vector (containing 0 if cat, 1 if non-cat), of shape (1, number of examples)\n",
    "    layers_dims -- list containing the input size and each layer size, of length (number of layers + 1).\n",
    "    learning_rate -- learning rate of the gradient descent update rule\n",
    "    num_iterations -- number of iterations of the optimization loop\n",
    "    print_cost -- if True, it prints the cost every 100 steps\n",
    "    \n",
    "    Returns:\n",
    "    parameters -- parameters learnt by the model. They can then be used to predict.\n",
    "    \"\"\"\n",
    "\n",
    "    np.random.seed(1)\n",
    "    costs = []                         # keep track of cost\n",
    "    gradsAvg = initialize_parameters_momentum(layers_dims) #initialize parameters for sDw and sDb\n",
    "    \n",
    "    parameters = initialize_parameters_deep(layers_dims)\n",
    "\n",
    "    # Loop (gradient descent)\n",
    "    for i in range(0, num_iterations):\n",
    "\n",
    "        # Forward propagation: [LINEAR -> RELU]*(L-1) -> LINEAR -> SIGMOID.\n",
    "        AL, caches = L_model_forward(X, parameters)\n",
    "        # Compute cost.\n",
    "        cost = compute_cost(AL, Y)\n",
    "        # Backward propagation.\n",
    "        grads = L_model_backward(AL, Y, caches)\n",
    "        # Update parameters.\n",
    "        parameters = update_parameters_momentum(parameters, grads, learning_rate, gradsAvg, beta)\n",
    "\n",
    "                \n",
    "        # Print the cost every 100 training example\n",
    "        if print_cost and i % 100 == 0:\n",
    "            print (\"Cost after iteration %i: %f\" %(i, cost))\n",
    "        if print_cost and i % 100 == 0:\n",
    "            costs.append(cost)\n",
    "            \n",
    "    # plot the cost\n",
    "    plt.figure(figsize = (6,5), dpi = 80)\n",
    "    plt.plot(np.squeeze(costs))\n",
    "    plt.ylabel('cost')\n",
    "    plt.xlabel('iterations (per hundreds)')\n",
    "    plt.title(\"Learning rate =\" + str(learning_rate))\n",
    "    plt.show()\n",
    "    \n",
    "    return parameters\n",
    "\n",
    "parameters_momentum = my_L_layer_model_momentum(train_set_X, train_set_Y, layers_dims, 0.9, num_iterations = 5000, print_cost = True)"
   ]
  },
  {
   "cell_type": "code",
   "execution_count": 17,
   "metadata": {},
   "outputs": [
    {
     "name": "stdout",
     "output_type": "stream",
     "text": [
      "Accuracy on training set:\n",
      "Accuracy: 0.9657142857142857\n",
      "Accuracy on test set:\n",
      "Accuracy: 0.987987987987988\n"
     ]
    }
   ],
   "source": [
    "print(\"Accuracy on training set:\")\n",
    "pred_train_momentum = predict(train_set_X, train_set_Y, parameters_momentum)\n",
    "print(\"Accuracy on test set:\")\n",
    "pred_test_momentum = predict(test_set_X, test_set_Y, parameters_momentum)"
   ]
  },
  {
   "attachments": {},
   "cell_type": "markdown",
   "metadata": {},
   "source": [
    "Interestingly, using gradient descent with momentum slightly increased the cost rather than lowering it. This might be because of the value chosen for beta (0.9), but before I adjust this value, I will try to implement RMSprop as well, to see if that changes anything first.\n",
    "For this, I define 1 extra function called update_parameters_RMSprop(), and I reuse the function for creating parameters from my model using momentum."
   ]
  },
  {
   "cell_type": "code",
   "execution_count": 18,
   "metadata": {},
   "outputs": [
    {
     "name": "stdout",
     "output_type": "stream",
     "text": [
      "Cost after iteration 0: 0.513706\n",
      "Cost after iteration 100: 0.139457\n",
      "Cost after iteration 200: 0.097761\n",
      "Cost after iteration 300: 0.085353\n",
      "Cost after iteration 400: 0.078663\n",
      "Cost after iteration 500: 0.071581\n",
      "Cost after iteration 600: 0.058095\n",
      "Cost after iteration 700: 0.046877\n",
      "Cost after iteration 800: 0.039714\n",
      "Cost after iteration 900: 0.072852\n",
      "Cost after iteration 1000: nan\n",
      "Cost after iteration 1100: nan\n",
      "Cost after iteration 1200: nan\n",
      "Cost after iteration 1300: nan\n",
      "Cost after iteration 1400: nan\n",
      "Cost after iteration 1500: nan\n"
     ]
    },
    {
     "name": "stderr",
     "output_type": "stream",
     "text": [
      "d:\\download\\code\\cmpt 310 finalproject\\nn_functions.py:243: RuntimeWarning: divide by zero encountered in log\n",
      "  cost = (1./m) * (-np.dot(Y,np.log(AL).T) - np.dot(1-Y, np.log(1-AL).T))\n",
      "d:\\download\\code\\cmpt 310 finalproject\\nn_functions.py:328: RuntimeWarning: invalid value encountered in divide\n",
      "  dAL = - (np.divide(Y, AL) - np.divide(1 - Y, 1 - AL))\n"
     ]
    },
    {
     "name": "stdout",
     "output_type": "stream",
     "text": [
      "Cost after iteration 1600: nan\n",
      "Cost after iteration 1700: nan\n",
      "Cost after iteration 1800: nan\n",
      "Cost after iteration 1900: nan\n",
      "Cost after iteration 2000: nan\n",
      "Cost after iteration 2100: nan\n",
      "Cost after iteration 2200: nan\n",
      "Cost after iteration 2300: nan\n",
      "Cost after iteration 2400: nan\n"
     ]
    },
    {
     "data": {
      "image/png": "[encoded data removed]",
      "text/plain": [
       "<Figure size 480x400 with 1 Axes>"
      ]
     },
     "metadata": {},
     "output_type": "display_data"
    }
   ],
   "source": [
    "layers_dims = [9, 7, 5, 1]\n",
    "\n",
    "def my_L_layer_model_RMSprop(X, Y, layers_dims, beta, learning_rate = 0.0075, num_iterations = 3000, print_cost=False):\n",
    "    \"\"\"\n",
    "    Implements a L-layer neural network: [LINEAR->RELU]*(L-1)->LINEAR->SIGMOID.\n",
    "    \n",
    "    Arguments:\n",
    "    X -- data, numpy array of shape (num_px * num_px * 3, number of examples)\n",
    "    Y -- true \"label\" vector (containing 0 if cat, 1 if non-cat), of shape (1, number of examples)\n",
    "    layers_dims -- list containing the input size and each layer size, of length (number of layers + 1).\n",
    "    learning_rate -- learning rate of the gradient descent update rule\n",
    "    num_iterations -- number of iterations of the optimization loop\n",
    "    print_cost -- if True, it prints the cost every 100 steps\n",
    "    \n",
    "    Returns:\n",
    "    parameters -- parameters learnt by the model. They can then be used to predict.\n",
    "    \"\"\"\n",
    "\n",
    "    np.random.seed(1)\n",
    "    costs = []                         # keep track of cost\n",
    "    gradsAvg = initialize_parameters_momentum(layers_dims) #initialize parameters for sDw and sDb\n",
    "    \n",
    "    parameters = initialize_parameters_deep(layers_dims)\n",
    "\n",
    "    \n",
    "    # Loop (gradient descent)\n",
    "    for i in range(0, num_iterations):\n",
    "\n",
    "        # Forward propagation: [LINEAR -> RELU]*(L-1) -> LINEAR -> SIGMOID.\n",
    "        AL, caches = L_model_forward(X, parameters)\n",
    "        # Compute cost.\n",
    "        cost = compute_cost(AL, Y)\n",
    "        # Backward propagation.\n",
    "        grads = L_model_backward(AL, Y, caches)\n",
    "        # Update parameters.\n",
    "        parameters = update_parameters_RMSprop(parameters, grads, learning_rate, gradsAvg, beta)\n",
    "\n",
    "                \n",
    "        # Print the cost every 100 training example\n",
    "        if print_cost and i % 100 == 0:\n",
    "            print (\"Cost after iteration %i: %f\" %(i, cost))\n",
    "        if print_cost and i % 100 == 0:\n",
    "            costs.append(cost)\n",
    "            \n",
    "    # plot the cost\n",
    "    plt.figure(figsize = (6,5), dpi = 80)\n",
    "    plt.plot(np.squeeze(costs))\n",
    "    plt.ylabel('cost')\n",
    "    plt.xlabel('iterations (per hundreds)')\n",
    "    plt.title(\"Learning rate =\" + str(learning_rate))\n",
    "    plt.show()\n",
    "    \n",
    "    return parameters\n",
    "\n",
    "parameters_RMSprop = my_L_layer_model_RMSprop(train_set_X, train_set_Y, layers_dims, 0.9, num_iterations = 2500, print_cost = True)"
   ]
  },
  {
   "cell_type": "code",
   "execution_count": 19,
   "metadata": {},
   "outputs": [
    {
     "name": "stdout",
     "output_type": "stream",
     "text": [
      "Accuracy on training set:\n",
      "Accuracy: 0.5314285714285715\n",
      "Accuracy on test set:\n",
      "Accuracy: 0.7747747747747747\n"
     ]
    }
   ],
   "source": [
    "print(\"Accuracy on training set:\")\n",
    "pred_train_RMSprop = predict(train_set_X, train_set_Y, parameters_RMSprop)\n",
    "print(\"Accuracy on test set:\")\n",
    "pred_test_RMSprop = predict(test_set_X, test_set_Y, parameters_RMSprop)"
   ]
  },
  {
   "attachments": {},
   "cell_type": "markdown",
   "metadata": {},
   "source": [
    "In this model, the loss function sharply declined and then became NaN. I did a bit of research into this, and this is likely a case of an exploding gradient problem, an issue in machine learning where when the gradients are large, multiplication of these gradients become huge as the process continues. So even though the loss is low, this model will likely not perform well. A proposed fix to this is to adjust hyperparameters."
   ]
  },
  {
   "attachments": {},
   "cell_type": "markdown",
   "metadata": {},
   "source": [
    "Given that I have 2 models to work with, gradient descent with momentum and gradient descent using RMSprop, I will adjust hyperparameters for both to see which performs better overall. I will first start with my momentum model."
   ]
  },
  {
   "cell_type": "code",
   "execution_count": 20,
   "metadata": {},
   "outputs": [],
   "source": [
    "layers_dims = [9,7,5,1]"
   ]
  },
  {
   "cell_type": "code",
   "execution_count": 21,
   "metadata": {},
   "outputs": [],
   "source": [
    "def my_L_layer_model_momentum(X, Y, layers_dims, beta, learning_rate = 0.0075, num_iterations = 3000, print_cost=False, plot_cost = False):\n",
    "    \"\"\"\n",
    "    Implements a L-layer neural network: [LINEAR->RELU]*(L-1)->LINEAR->SIGMOID.\n",
    "    \n",
    "    Arguments:\n",
    "    X -- data, numpy array of shape (num_px * num_px * 3, number of examples)\n",
    "    Y -- true \"label\" vector (containing 0 if cat, 1 if non-cat), of shape (1, number of examples)\n",
    "    layers_dims -- list containing the input size and each layer size, of length (number of layers + 1).\n",
    "    learning_rate -- learning rate of the gradient descent update rule\n",
    "    num_iterations -- number of iterations of the optimization loop\n",
    "    print_cost -- if True, it prints the cost every 100 steps\n",
    "    \n",
    "    Returns:\n",
    "    parameters -- parameters learnt by the model. They can then be used to predict.\n",
    "    \"\"\"\n",
    "\n",
    "    np.random.seed(1)\n",
    "    costs = []                         # keep track of cost\n",
    "    gradsAvg = initialize_parameters_momentum(layers_dims) #initialize parameters for sDw and sDb\n",
    "    \n",
    "    parameters = initialize_parameters_deep(layers_dims)\n",
    "\n",
    "    # Loop (gradient descent)\n",
    "    for i in range(0, num_iterations):\n",
    "\n",
    "        # Forward propagation: [LINEAR -> RELU]*(L-1) -> LINEAR -> SIGMOID.\n",
    "        AL, caches = L_model_forward(X, parameters)\n",
    "        # Compute cost.\n",
    "        cost = compute_cost(AL, Y)\n",
    "        # Backward propagation.\n",
    "        grads = L_model_backward(AL, Y, caches)\n",
    "        # Update parameters.\n",
    "        parameters = update_parameters_momentum(parameters, grads, learning_rate, gradsAvg, beta)\n",
    "\n",
    "                \n",
    "        # Print the cost every 100 training example\n",
    "        if print_cost and i % 100 == 0:\n",
    "            print (\"Cost after iteration %i: %f\" %(i, cost))\n",
    "        if print_cost and i % 100 == 0:\n",
    "            costs.append(cost)\n",
    "            \n",
    "    # plot the cost\n",
    "    if(plot_cost):\n",
    "        plt.figure(figsize = (6,5), dpi = 80)\n",
    "        plt.plot(np.squeeze(costs))\n",
    "        plt.ylabel('cost')\n",
    "        plt.xlabel('iterations (per hundreds)')\n",
    "        plt.title(\"Learning rate =\" + str(learning_rate))\n",
    "        plt.show()\n",
    "    \n",
    "    return parameters"
   ]
  },
  {
   "attachments": {},
   "cell_type": "markdown",
   "metadata": {},
   "source": [
    "The following code experiments with what happens as the values of beta and the learning rate change. Changing both parameters at the same time allows for more values to be checked overall, and once I find a interesting result, I can hone in on that area."
   ]
  },
  {
   "cell_type": "code",
   "execution_count": 22,
   "metadata": {},
   "outputs": [
    {
     "name": "stdout",
     "output_type": "stream",
     "text": [
      "beta = 0.99 learning rate = 0.0075\n",
      "Accuracy on training set:\n",
      "Accuracy: 0.96\n",
      "Accuracy on test set:\n",
      "Accuracy: 0.96996996996997\n",
      "\n",
      "beta = 0.79 learning rate = 0.008\n",
      "Accuracy on training set:\n",
      "Accuracy: 0.96\n",
      "Accuracy on test set:\n",
      "Accuracy: 0.972972972972973\n",
      "\n",
      "beta = 0.59 learning rate = 0.0085\n",
      "Accuracy on training set:\n",
      "Accuracy: 0.9628571428571429\n",
      "Accuracy on test set:\n",
      "Accuracy: 0.972972972972973\n",
      "\n",
      "beta = 0.3899999999999999 learning rate = 0.009\n",
      "Accuracy on training set:\n",
      "Accuracy: 0.9657142857142857\n",
      "Accuracy on test set:\n",
      "Accuracy: 0.972972972972973\n",
      "\n",
      "beta = 0.18999999999999995 learning rate = 0.0095\n",
      "Accuracy on training set:\n",
      "Accuracy: 0.9657142857142857\n",
      "Accuracy on test set:\n",
      "Accuracy: 0.9759759759759761\n",
      "\n"
     ]
    }
   ],
   "source": [
    "# Your work for experiments\n",
    "for i in range(5):\n",
    "    parameters_momentum = my_L_layer_model_momentum(train_set_X, train_set_Y, layers_dims, 0.99-i*0.2, 0.0075+i*0.0005, num_iterations = 2500)\n",
    "    print(\"beta =\", 0.99-i*0.2, \"learning rate =\", 0.0075+i*0.0005)\n",
    "    print(\"Accuracy on training set:\")\n",
    "    pred_train_momentum = predict(train_set_X, train_set_Y, parameters_momentum)\n",
    "    print(\"Accuracy on test set:\")\n",
    "    pred_test_momentum = predict(test_set_X, test_set_Y, parameters_momentum)\n",
    "    print(\"\")\n",
    "    "
   ]
  },
  {
   "attachments": {},
   "cell_type": "markdown",
   "metadata": {},
   "source": [
    "The accuracy increased as the learning rate increased and beta decreased. I will test what happens when the learning rate decreases and beta increased, to investigate the relationship between the two values. "
   ]
  },
  {
   "cell_type": "code",
   "execution_count": 23,
   "metadata": {},
   "outputs": [
    {
     "name": "stdout",
     "output_type": "stream",
     "text": [
      "beta = 0.19 learning rate = 0.00789\n",
      "Accuracy on training set:\n",
      "Accuracy: 0.96\n",
      "Accuracy on test set:\n",
      "Accuracy: 0.972972972972973\n",
      "\n",
      "beta = 0.39 learning rate = 0.00769\n",
      "Accuracy on training set:\n",
      "Accuracy: 0.96\n",
      "Accuracy on test set:\n",
      "Accuracy: 0.972972972972973\n",
      "\n",
      "beta = 0.5900000000000001 learning rate = 0.007489999999999999\n",
      "Accuracy on training set:\n",
      "Accuracy: 0.9628571428571429\n",
      "Accuracy on test set:\n",
      "Accuracy: 0.972972972972973\n",
      "\n",
      "beta = 0.79 learning rate = 0.00729\n",
      "Accuracy on training set:\n",
      "Accuracy: 0.9628571428571429\n",
      "Accuracy on test set:\n",
      "Accuracy: 0.972972972972973\n",
      "\n",
      "beta = 0.99 learning rate = 0.007089999999999999\n",
      "Accuracy on training set:\n",
      "Accuracy: 0.9628571428571429\n",
      "Accuracy on test set:\n",
      "Accuracy: 0.972972972972973\n",
      "\n"
     ]
    }
   ],
   "source": [
    "for i in range(5):\n",
    "    parameters_momentum = my_L_layer_model_momentum(train_set_X, train_set_Y, layers_dims, 0.19-i*0.2, 0.00789+i*0.0002, num_iterations = 2500)\n",
    "    print(\"beta =\", 0.19+i*0.2, \"learning rate =\", 0.00789-i*0.0002)\n",
    "    print(\"Accuracy on training set:\")\n",
    "    pred_train_momentum = predict(train_set_X, train_set_Y, parameters_momentum)\n",
    "    print(\"Accuracy on test set:\")\n",
    "    pred_test_momentum = predict(test_set_X, test_set_Y, parameters_momentum)\n",
    "    print(\"\")\n",
    "    "
   ]
  },
  {
   "attachments": {},
   "cell_type": "markdown",
   "metadata": {},
   "source": [
    "A similar result occurs, which means that one of these values does not affect the accuracy much. So I change the values on their own to see which is causing the change in accuracy."
   ]
  },
  {
   "cell_type": "code",
   "execution_count": 24,
   "metadata": {},
   "outputs": [
    {
     "name": "stdout",
     "output_type": "stream",
     "text": [
      "beta = 0.19\n",
      "Accuracy on training set:\n",
      "Accuracy: 0.96\n",
      "Accuracy on test set:\n",
      "Accuracy: 0.96996996996997\n",
      "\n",
      "beta = 0.39\n",
      "Accuracy on training set:\n",
      "Accuracy: 0.96\n",
      "Accuracy on test set:\n",
      "Accuracy: 0.96996996996997\n",
      "\n",
      "beta = 0.5900000000000001\n",
      "Accuracy on training set:\n",
      "Accuracy: 0.96\n",
      "Accuracy on test set:\n",
      "Accuracy: 0.96996996996997\n",
      "\n",
      "beta = 0.79\n",
      "Accuracy on training set:\n",
      "Accuracy: 0.96\n",
      "Accuracy on test set:\n",
      "Accuracy: 0.96996996996997\n",
      "\n",
      "beta = 0.99\n",
      "Accuracy on training set:\n",
      "Accuracy: 0.96\n",
      "Accuracy on test set:\n",
      "Accuracy: 0.96996996996997\n",
      "\n",
      "learning rate = 0.0075\n",
      "Accuracy on training set:\n",
      "Accuracy: 0.9514285714285714\n",
      "Accuracy on test set:\n",
      "Accuracy: 0.9669669669669669\n",
      "\n",
      "learning rate = 0.0175\n",
      "Accuracy on training set:\n",
      "Accuracy: 0.9657142857142857\n",
      "Accuracy on test set:\n",
      "Accuracy: 0.987987987987988\n",
      "\n",
      "learning rate = 0.0275\n",
      "Accuracy on training set:\n",
      "Accuracy: 0.9628571428571429\n",
      "Accuracy on test set:\n",
      "Accuracy: 0.987987987987988\n",
      "\n",
      "learning rate = 0.0375\n",
      "Accuracy on training set:\n",
      "Accuracy: 0.9714285714285713\n",
      "Accuracy on test set:\n",
      "Accuracy: 0.987987987987988\n",
      "\n",
      "learning rate = 0.0475\n",
      "Accuracy on training set:\n",
      "Accuracy: 0.9771428571428571\n",
      "Accuracy on test set:\n",
      "Accuracy: 0.9789789789789791\n",
      "\n"
     ]
    }
   ],
   "source": [
    "for i in range(5):\n",
    "    parameters_momentum = my_L_layer_model_momentum(train_set_X, train_set_Y, layers_dims, 0.19-i*0.02, 0.0075, num_iterations = 2500)\n",
    "    print(\"beta =\", 0.19+i*0.2)\n",
    "    print(\"Accuracy on training set:\")\n",
    "    pred_train_momentum = predict(train_set_X, train_set_Y, parameters_momentum)\n",
    "    print(\"Accuracy on test set:\")\n",
    "    pred_test_momentum = predict(test_set_X, test_set_Y, parameters_momentum)\n",
    "    print(\"\")\n",
    "for i in range(5):\n",
    "    parameters_momentum = my_L_layer_model_momentum(train_set_X, train_set_Y, layers_dims, 0.9, 0.005+i*0.01, num_iterations = 2500)\n",
    "    print(\"learning rate =\", 0.0075+i*0.01)\n",
    "    print(\"Accuracy on training set:\")\n",
    "    pred_train_momentum = predict(train_set_X, train_set_Y, parameters_momentum)\n",
    "    print(\"Accuracy on test set:\")\n",
    "    pred_test_momentum = predict(test_set_X, test_set_Y, parameters_momentum)\n",
    "    print(\"\")"
   ]
  },
  {
   "attachments": {},
   "cell_type": "markdown",
   "metadata": {},
   "source": [
    "There is not enough room for the results to show here, but upon viewing the output in the text editor, it seems that changing the value of beta does not affect much, while changing the learning rate improves the accuracy quite a lot. From some tedious experimenting with the learning rate, I found that increasing the learning rate too much increases accuracy on the training set, but starts to reduce accuracy on the test set, which is a case of overfitting the data. A good value that I found for the learning rate was around 0.0375. This value maximized accuracy on both the training set as well as the test set."
   ]
  },
  {
   "cell_type": "code",
   "execution_count": 25,
   "metadata": {},
   "outputs": [
    {
     "name": "stdout",
     "output_type": "stream",
     "text": [
      "Original hyperparameters:\n",
      "Accuracy on training set:\n",
      "Accuracy: 0.96\n",
      "Accuracy on test set:\n",
      "Accuracy: 0.96996996996997\n",
      "\n",
      "Optimized hyperparameters:\n",
      "Accuracy on training set:\n",
      "Accuracy: 0.9714285714285713\n",
      "Accuracy on test set:\n",
      "Accuracy: 0.987987987987988\n"
     ]
    }
   ],
   "source": [
    "print(\"Original hyperparameters:\")\n",
    "parameters_momentum = my_L_layer_model_momentum(train_set_X, train_set_Y, layers_dims, 0.9, 0.0075, num_iterations = 2500)\n",
    "print(\"Accuracy on training set:\")\n",
    "pred_train_momentum = predict(train_set_X, train_set_Y, parameters_momentum)\n",
    "print(\"Accuracy on test set:\")\n",
    "pred_test_momentum = predict(test_set_X, test_set_Y, parameters_momentum)\n",
    "print(\"\")\n",
    "print(\"Optimized hyperparameters:\")\n",
    "parameters_momentum = my_L_layer_model_momentum(train_set_X, train_set_Y, layers_dims, 0.9, 0.0375, num_iterations = 2500)\n",
    "print(\"Accuracy on training set:\")\n",
    "pred_train_momentum = predict(train_set_X, train_set_Y, parameters_momentum)\n",
    "print(\"Accuracy on test set:\")\n",
    "pred_test_momentum = predict(test_set_X, test_set_Y, parameters_momentum)"
   ]
  },
  {
   "attachments": {},
   "cell_type": "markdown",
   "metadata": {},
   "source": [
    "Now I will do some experimenting with my RMSprop model. The issue with this model is that it experiences a case of gradient explosion, so to combat this, I will adjust the learning rate to account for the large gradients."
   ]
  },
  {
   "cell_type": "code",
   "execution_count": 26,
   "metadata": {},
   "outputs": [],
   "source": [
    "def my_L_layer_model_RMSprop(X, Y, layers_dims, beta, learning_rate = 0.0075, num_iterations = 3000, print_cost=False, plot_cost = False):\n",
    "    \"\"\"\n",
    "    Implements a L-layer neural network: [LINEAR->RELU]*(L-1)->LINEAR->SIGMOID.\n",
    "    \n",
    "    Arguments:\n",
    "    X -- data, numpy array of shape (num_px * num_px * 3, number of examples)\n",
    "    Y -- true \"label\" vector (containing 0 if cat, 1 if non-cat), of shape (1, number of examples)\n",
    "    layers_dims -- list containing the input size and each layer size, of length (number of layers + 1).\n",
    "    learning_rate -- learning rate of the gradient descent update rule\n",
    "    num_iterations -- number of iterations of the optimization loop\n",
    "    print_cost -- if True, it prints the cost every 100 steps\n",
    "    \n",
    "    Returns:\n",
    "    parameters -- parameters learnt by the model. They can then be used to predict.\n",
    "    \"\"\"\n",
    "\n",
    "    np.random.seed(1)\n",
    "    costs = []                         # keep track of cost\n",
    "    gradsAvg = initialize_parameters_momentum(layers_dims) #initialize parameters for sDw and sDb\n",
    "    \n",
    "    parameters = initialize_parameters_deep(layers_dims)\n",
    "\n",
    "    \n",
    "    # Loop (gradient descent)\n",
    "    for i in range(0, num_iterations):\n",
    "        # Forward propagation: [LINEAR -> RELU]*(L-1) -> LINEAR -> SIGMOID.\n",
    "        AL, caches = L_model_forward(X, parameters)\n",
    "        # Compute cost.\n",
    "        cost = compute_cost(AL, Y)\n",
    "        # Backward propagation.\n",
    "        grads = L_model_backward(AL, Y, caches)\n",
    "        # Update parameters.\n",
    "        parameters = update_parameters_RMSprop(parameters, grads, learning_rate, gradsAvg, beta)\n",
    "\n",
    "                \n",
    "        # Print the cost every 100 training example\n",
    "        if print_cost and i % 100 == 0:\n",
    "            print (\"Cost after iteration %i: %f\" %(i, cost))\n",
    "        if print_cost and i % 100 == 0:\n",
    "            costs.append(cost)\n",
    "            \n",
    "    # plot the cost\n",
    "    if(plot_cost):\n",
    "        plt.figure(figsize = (6,5), dpi = 80)\n",
    "        plt.plot(np.squeeze(costs))\n",
    "        plt.ylabel('cost')\n",
    "        plt.xlabel('iterations (per hundreds)')\n",
    "        plt.title(\"Learning rate =\" + str(learning_rate))\n",
    "        plt.show()\n",
    "    \n",
    "    return parameters"
   ]
  },
  {
   "cell_type": "code",
   "execution_count": 27,
   "metadata": {},
   "outputs": [
    {
     "name": "stdout",
     "output_type": "stream",
     "text": [
      "learning rate = 0.0075\n",
      "Accuracy on training set:\n",
      "Accuracy: 0.5314285714285715\n",
      "Accuracy on test set:\n",
      "Accuracy: 0.7747747747747747\n",
      "\n",
      "learning rate = 0.00375\n",
      "Accuracy on training set:\n",
      "Accuracy: 0.9857142857142857\n",
      "Accuracy on test set:\n",
      "Accuracy: 0.9759759759759761\n",
      "\n",
      "learning rate = 0.0025\n",
      "Accuracy on training set:\n",
      "Accuracy: 0.9828571428571429\n",
      "Accuracy on test set:\n",
      "Accuracy: 0.9789789789789791\n",
      "\n",
      "learning rate = 0.001875\n",
      "Accuracy on training set:\n",
      "Accuracy: 0.98\n",
      "Accuracy on test set:\n",
      "Accuracy: 0.9789789789789791\n",
      "\n",
      "learning rate = 0.0015\n",
      "Accuracy on training set:\n",
      "Accuracy: 0.98\n",
      "Accuracy on test set:\n",
      "Accuracy: 0.9759759759759761\n",
      "\n"
     ]
    }
   ],
   "source": [
    "for i in range(5):\n",
    "    parameters_RMSprop = my_L_layer_model_RMSprop(train_set_X, train_set_Y, layers_dims, 0.9, 0.0075/(i+1), num_iterations = 2500)\n",
    "    print(\"learning rate =\", 0.0075/(i+1))\n",
    "    print(\"Accuracy on training set:\")\n",
    "    pred_train_RMSprop = predict(train_set_X, train_set_Y, parameters_RMSprop)\n",
    "    print(\"Accuracy on test set:\")\n",
    "    pred_test_RMSprop = predict(test_set_X, test_set_Y, parameters_RMSprop)\n",
    "    print(\"\")"
   ]
  },
  {
   "attachments": {},
   "cell_type": "markdown",
   "metadata": {},
   "source": [
    "It seems that the gradient explosion issue is fixed by reducing the learning rate. I did some tedious experimenting with the learning rate, and it seems that the optimal value is around 0.00235."
   ]
  },
  {
   "cell_type": "code",
   "execution_count": 28,
   "metadata": {},
   "outputs": [
    {
     "name": "stdout",
     "output_type": "stream",
     "text": [
      "learning rate = 0.00235\n",
      "Accuracy on training set:\n",
      "Accuracy: 0.9857142857142857\n",
      "Accuracy on test set:\n",
      "Accuracy: 0.9789789789789791\n"
     ]
    }
   ],
   "source": [
    "parameters_RMSprop = my_L_layer_model_RMSprop(train_set_X, train_set_Y, layers_dims, 0.9, 0.00235, num_iterations = 2500)\n",
    "print(\"learning rate =\", 0.00235)\n",
    "print(\"Accuracy on training set:\")\n",
    "pred_train_RMSprop = predict(train_set_X, train_set_Y, parameters_RMSprop)\n",
    "print(\"Accuracy on test set:\")\n",
    "pred_test_RMSprop = predict(test_set_X, test_set_Y, parameters_RMSprop)"
   ]
  },
  {
   "attachments": {},
   "cell_type": "markdown",
   "metadata": {},
   "source": [
    "I will do some experimenting with beta to see if I can further increase the accuracy."
   ]
  },
  {
   "cell_type": "code",
   "execution_count": 29,
   "metadata": {},
   "outputs": [
    {
     "name": "stdout",
     "output_type": "stream",
     "text": [
      "beta =  0.9\n",
      "Accuracy on training set:\n",
      "Accuracy: 0.9857142857142857\n",
      "Accuracy on test set:\n",
      "Accuracy: 0.9789789789789791\n",
      "\n",
      "beta =  0.7\n",
      "Accuracy on training set:\n",
      "Accuracy: 0.98\n",
      "Accuracy on test set:\n",
      "Accuracy: 0.9789789789789791\n",
      "\n",
      "beta =  0.5\n",
      "Accuracy on training set:\n",
      "Accuracy: 0.9857142857142857\n",
      "Accuracy on test set:\n",
      "Accuracy: 0.9759759759759761\n",
      "\n",
      "beta =  0.29999999999999993\n",
      "Accuracy on training set:\n",
      "Accuracy: 0.9799999999999999\n",
      "Accuracy on test set:\n",
      "Accuracy: 0.9789789789789791\n",
      "\n",
      "beta =  0.09999999999999998\n",
      "Accuracy on training set:\n",
      "Accuracy: 0.9714285714285713\n",
      "Accuracy on test set:\n",
      "Accuracy: 0.9789789789789791\n",
      "\n"
     ]
    }
   ],
   "source": [
    "for i in range(5):\n",
    "    parameters_RMSprop = my_L_layer_model_RMSprop(train_set_X, train_set_Y, layers_dims, 0.9-i*0.2, 0.00235, num_iterations = 2500)\n",
    "    print(\"beta = \", 0.9-i*0.2)\n",
    "    print(\"Accuracy on training set:\")\n",
    "    pred_train_RMSprop = predict(train_set_X, train_set_Y, parameters_RMSprop)\n",
    "    print(\"Accuracy on test set:\")\n",
    "    pred_test_RMSprop = predict(test_set_X, test_set_Y, parameters_RMSprop)\n",
    "    print(\"\")"
   ]
  },
  {
   "attachments": {},
   "cell_type": "markdown",
   "metadata": {},
   "source": [
    "As beta decreases, the accuracy worsens. I also tested to see what would happen if I moved beta closer to 1, but as it got closer to 1, the accuracy also worsened. So I think an optimal value for beta is 0.9."
   ]
  },
  {
   "cell_type": "code",
   "execution_count": 30,
   "metadata": {},
   "outputs": [
    {
     "name": "stdout",
     "output_type": "stream",
     "text": [
      "Momentum model: \n",
      "Accuracy on training set:\n",
      "Accuracy: 0.9714285714285713\n",
      "Accuracy on test set:\n",
      "Accuracy: 0.987987987987988\n",
      "\n",
      "RMSprop model:\n",
      "Accuracy on training set:\n",
      "Accuracy: 0.9857142857142857\n",
      "Accuracy on test set:\n",
      "Accuracy: 0.9789789789789791\n"
     ]
    }
   ],
   "source": [
    "print(\"Momentum model: \")\n",
    "parameters_momentum = my_L_layer_model_momentum(train_set_X, train_set_Y, layers_dims, 0.9, 0.0375, num_iterations = 2500)\n",
    "print(\"Accuracy on training set:\")\n",
    "pred_train_momentum = predict(train_set_X, train_set_Y, parameters_momentum)\n",
    "print(\"Accuracy on test set:\")\n",
    "pred_test_momentum = predict(test_set_X, test_set_Y, parameters_momentum)\n",
    "print(\"\")\n",
    "print(\"RMSprop model:\")\n",
    "parameters_RMSprop = my_L_layer_model_RMSprop(train_set_X, train_set_Y, layers_dims, 0.9, 0.00235, num_iterations = 2500)\n",
    "print(\"Accuracy on training set:\")\n",
    "pred_train_RMSprop = predict(train_set_X, train_set_Y, parameters_RMSprop)\n",
    "print(\"Accuracy on test set:\")\n",
    "pred_test_RMSprop = predict(test_set_X, test_set_Y, parameters_RMSprop)\n"
   ]
  },
  {
   "attachments": {},
   "cell_type": "markdown",
   "metadata": {},
   "source": [
    "These are the results after optimizing values for the learning rate and beta. Finally, I will see if changing the size of the training set and testing set will change anything. Below, I reprocess the data, and run the model again with differently sized sets."
   ]
  },
  {
   "cell_type": "code",
   "execution_count": 31,
   "metadata": {},
   "outputs": [
    {
     "name": "stdout",
     "output_type": "stream",
     "text": [
      "TRAIN SET OF SIZE: 350 , TEST SET OF SIZE: 333\n",
      "Momentum model: \n",
      "Accuracy on training set:\n",
      "Accuracy: 0.9714285714285713\n",
      "Accuracy on test set:\n",
      "Accuracy: 0.987987987987988\n",
      "RMSprop model:\n",
      "Accuracy on training set:\n",
      "Accuracy: 0.9857142857142857\n",
      "Accuracy on test set:\n",
      "Accuracy: 0.9789789789789791\n",
      "\n",
      "\n",
      "TRAIN SET OF SIZE: 400 , TEST SET OF SIZE: 283\n",
      "Momentum model: \n",
      "Accuracy on training set:\n",
      "Accuracy: 0.9724999999999999\n",
      "Accuracy on test set:\n",
      "Accuracy: 0.9858657243816256\n",
      "RMSprop model:\n",
      "Accuracy on training set:\n",
      "Accuracy: 0.5700000000000001\n",
      "Accuracy on test set:\n",
      "Accuracy: 0.7632508833922262\n",
      "\n",
      "\n",
      "TRAIN SET OF SIZE: 450 , TEST SET OF SIZE: 233\n",
      "Momentum model: \n",
      "Accuracy on training set:\n",
      "Accuracy: 0.9666666666666668\n",
      "Accuracy on test set:\n",
      "Accuracy: 0.9828326180257514\n",
      "RMSprop model:\n",
      "Accuracy on training set:\n",
      "Accuracy: 0.9888888888888889\n",
      "Accuracy on test set:\n",
      "Accuracy: 0.9785407725321891\n",
      "\n",
      "\n",
      "TRAIN SET OF SIZE: 500 , TEST SET OF SIZE: 183\n",
      "Momentum model: \n",
      "Accuracy on training set:\n",
      "Accuracy: 0.9720000000000003\n",
      "Accuracy on test set:\n",
      "Accuracy: 0.994535519125683\n",
      "RMSprop model:\n",
      "Accuracy on training set:\n",
      "Accuracy: 0.9840000000000003\n",
      "Accuracy on test set:\n",
      "Accuracy: 0.9672131147540983\n",
      "\n",
      "\n",
      "TRAIN SET OF SIZE: 550 , TEST SET OF SIZE: 133\n",
      "Momentum model: \n",
      "Accuracy on training set:\n",
      "Accuracy: 0.98\n",
      "Accuracy on test set:\n",
      "Accuracy: 0.9924812030075187\n",
      "RMSprop model:\n",
      "Accuracy on training set:\n",
      "Accuracy: 0.6290909090909089\n",
      "Accuracy on test set:\n",
      "Accuracy: 0.7368421052631579\n",
      "\n",
      "\n"
     ]
    }
   ],
   "source": [
    "filename = \"datasets/breast-cancer-wisconsin.data\"\n",
    "dataset = np.genfromtxt(filename, delimiter=\",\")\n",
    "for i in range(5):\n",
    "    #splitting given data into a training set and testing set\n",
    "    train_set = dataset[:350+i*50]\n",
    "    test_set = dataset[350+i*50:]\n",
    "\n",
    "    #splitting both sets into input matrix and label matrix, the set[:, 1:-1] removes the id number from the list of parameters since it is irrelevant\n",
    "    train_set_X, train_set_Y = train_set[:, 1:-1], train_set[:, -1]\n",
    "    test_set_X, test_set_Y = test_set[:, 1:-1], test_set[:, -1]\n",
    "    train_set_X, train_set_Y = train_set_X.T, train_set_Y.reshape(1, train_set_Y.shape[0])\n",
    "    test_set_X, test_set_Y = test_set_X.T, test_set_Y.reshape(1, test_set_Y.shape[0])\n",
    "\n",
    "    #label coloumn has entries of 2 and 4, so dividing by 2 and subtracting 1 gives binary values 0 and 1\n",
    "    train_set_Y, test_set_Y = (train_set_Y/2)-1, (test_set_Y/2)-1\n",
    "\n",
    "    print(\"TRAIN SET OF SIZE:\", 350+i*50, \",\", \"TEST SET OF SIZE:\", 683-(350+i*50))\n",
    "    print(\"Momentum model: \")\n",
    "    parameters_momentum = my_L_layer_model_momentum(train_set_X, train_set_Y, layers_dims, 0.9, 0.0375, num_iterations = 2500)\n",
    "    print(\"Accuracy on training set:\")\n",
    "    pred_train_momentum = predict(train_set_X, train_set_Y, parameters_momentum)\n",
    "    print(\"Accuracy on test set:\")\n",
    "    pred_test_momentum = predict(test_set_X, test_set_Y, parameters_momentum)\n",
    "    print(\"RMSprop model:\")\n",
    "    parameters_RMSprop = my_L_layer_model_RMSprop(train_set_X, train_set_Y, layers_dims, 0.9, 0.00235, num_iterations = 2500)\n",
    "    print(\"Accuracy on training set:\")\n",
    "    pred_train_RMSprop = predict(train_set_X, train_set_Y, parameters_RMSprop)\n",
    "    print(\"Accuracy on test set:\")\n",
    "    pred_test_RMSprop = predict(test_set_X, test_set_Y, parameters_RMSprop)\n",
    "    print(\"\")\n",
    "    print(\"\")\n",
    "\n",
    "\n",
    "\n"
   ]
  },
  {
   "attachments": {},
   "cell_type": "markdown",
   "metadata": {},
   "source": [
    "The output exceeds the size limit, but according to the data, generally increasing the size of the training set and decreasing the size of the test set resulted in better accuracy on both sets. However, the RMSprop model had lower accuracy in all cases when compared against the momentum model. So I will use my momentum model for my final model. After some experimentation, I found that the setting the training set size to around 515, and the test set size to around 168, resulted in the highest accuracy. "
   ]
  },
  {
   "cell_type": "code",
   "execution_count": 32,
   "metadata": {},
   "outputs": [
    {
     "name": "stdout",
     "output_type": "stream",
     "text": [
      "TRAIN SET OF SIZE: 515 , TEST SET OF SIZE: 168\n",
      "Momentum model: \n",
      "Accuracy on training set:\n",
      "Accuracy: 0.9786407766990293\n",
      "Accuracy on test set:\n",
      "Accuracy: 0.9999999999999999\n"
     ]
    }
   ],
   "source": [
    "filename = \"datasets/breast-cancer-wisconsin.data\"\n",
    "dataset = np.genfromtxt(filename, delimiter=\",\")\n",
    "#splitting given data into a training set and testing set\n",
    "train_set = dataset[:515]\n",
    "test_set = dataset[515:]\n",
    "\n",
    "#splitting both sets into input matrix and label matrix, the set[:, 1:-1] removes the id number from the list of parameters since it is irrelevant\n",
    "train_set_X, train_set_Y = train_set[:, 1:-1], train_set[:, -1]\n",
    "test_set_X, test_set_Y = test_set[:, 1:-1], test_set[:, -1]\n",
    "train_set_X, train_set_Y = train_set_X.T, train_set_Y.reshape(1, train_set_Y.shape[0])\n",
    "test_set_X, test_set_Y = test_set_X.T, test_set_Y.reshape(1, test_set_Y.shape[0])\n",
    "\n",
    "#label coloumn has entries of 2 and 4, so dividing by 2 and subtracting 1 gives binary values 0 and 1\n",
    "train_set_Y, test_set_Y = (train_set_Y/2)-1, (test_set_Y/2)-1\n",
    "\n",
    "print(\"TRAIN SET OF SIZE:\", 515, \",\", \"TEST SET OF SIZE:\", 168)\n",
    "print(\"Momentum model: \")\n",
    "parameters_momentum = my_L_layer_model_momentum(train_set_X, train_set_Y, layers_dims, 0.9, 0.0375, num_iterations = 2500)\n",
    "print(\"Accuracy on training set:\")\n",
    "pred_train_momentum = predict(train_set_X, train_set_Y, parameters_momentum)\n",
    "print(\"Accuracy on test set:\")\n",
    "pred_test_momentum = predict(test_set_X, test_set_Y, parameters_momentum)"
   ]
  },
  {
   "attachments": {},
   "cell_type": "markdown",
   "metadata": {},
   "source": [
    "This resulted in a very good accuracy for the test set, this is a satisfying result, so my experimentation ends here. However, this incredibly high accuracy on the test set could be due to the relatively small amount of data my dataset consisted of, so this model might not have such high accuracy if given more data, but as the model does incredibly well on the given data, concluding experimentation here is fine."
   ]
  }
 ],
 "metadata": {
  "coursera": {
   "course_slug": "neural-networks-deep-learning",
   "graded_item_id": "TSPse",
   "launcher_item_id": "24mxX"
  },
  "kernelspec": {
   "display_name": "Python 3",
   "language": "python",
   "name": "python3"
  },
  "language_info": {
   "codemirror_mode": {
    "name": "ipython",
    "version": 3
   },
   "file_extension": ".py",
   "mimetype": "text/x-python",
   "name": "python",
   "nbconvert_exporter": "python",
   "pygments_lexer": "ipython3",
   "version": "3.11.0"
  }
 },
 "nbformat": 4,
 "nbformat_minor": 2
}
